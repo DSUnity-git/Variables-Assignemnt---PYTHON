{
 "cells": [
  {
   "cell_type": "markdown",
   "id": "ea3f167c-3e4a-4c00-9efa-1273181fb639",
   "metadata": {},
   "source": [
    "ANS - 1->\n",
    "        Conventions for declaring a variable are as follows:-\n",
    "        1) A variable name must start with a letter or the underscore character...\n",
    "        2) A variable name cannot start with a number...\n",
    "        3) A variable name can only contain alpha-numeric characters and underscores (A-z and 0-9)...\n",
    "        4) Variable names are case-sensitive (age, Age and AGE are three different variables)..."
   ]
  },
  {
   "cell_type": "markdown",
   "id": "4d7501fc-4fca-4278-9cb0-969675e2ecb3",
   "metadata": {},
   "source": [
    "ANS - 2->\n",
    "        If we declare a restricted keyword as a variable, we'll get a SyntaxError..."
   ]
  },
  {
   "cell_type": "markdown",
   "id": "cb22fd19-1cdb-4aea-9511-d0419ce316fe",
   "metadata": {},
   "source": [
    "ANS - 3-> Yes, a string can be declared as a variable by using vars() function in python..."
   ]
  },
  {
   "cell_type": "markdown",
   "id": "ea2db76b-d2e3-4916-9354-1c4fb2560691",
   "metadata": {},
   "source": [
    "ANS - 4-> Yes, Single standalone underscore \"_\" is a valid character for a Python identifier, so it can be used as a variable name. It is used in the interactive interpreter to store the result of the last evaluation..."
   ]
  },
  {
   "cell_type": "markdown",
   "id": "20c7e942-9e55-4a81-96dd-64453fe64993",
   "metadata": {},
   "source": [
    "ANS - 5-> The variables in python are allowed to change their type over their lifetime and they are checked at the runtime of the code. This makes the variables in python dynamic and python a dynamically typed language..."
   ]
  },
  {
   "cell_type": "code",
   "execution_count": null,
   "id": "ec286f9f-f3fa-4761-9e34-d12926c3bea1",
   "metadata": {},
   "outputs": [],
   "source": []
  }
 ],
 "metadata": {
  "kernelspec": {
   "display_name": "Python 3 (ipykernel)",
   "language": "python",
   "name": "python3"
  },
  "language_info": {
   "codemirror_mode": {
    "name": "ipython",
    "version": 3
   },
   "file_extension": ".py",
   "mimetype": "text/x-python",
   "name": "python",
   "nbconvert_exporter": "python",
   "pygments_lexer": "ipython3",
   "version": "3.10.8"
  }
 },
 "nbformat": 4,
 "nbformat_minor": 5
}
